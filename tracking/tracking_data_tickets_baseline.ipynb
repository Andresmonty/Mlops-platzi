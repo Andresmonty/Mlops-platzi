{
 "cells": [
  {
   "cell_type": "code",
   "execution_count": 1,
   "metadata": {},
   "outputs": [
    {
     "name": "stderr",
     "output_type": "stream",
     "text": [
      "/Users/mdurango/Proyect/Mlops-platzi/.venv/lib/python3.9/site-packages/pydantic/_internal/_fields.py:149: UserWarning: Field \"model_server_url\" has conflict with protected namespace \"model_\".\n",
      "\n",
      "You may be able to resolve this warning by setting `model_config['protected_namespaces'] = ()`.\n",
      "  warnings.warn(\n",
      "/Users/mdurango/Proyect/Mlops-platzi/.venv/lib/python3.9/site-packages/pydantic/_internal/_config.py:318: UserWarning: Valid config keys have changed in V2:\n",
      "* 'schema_extra' has been renamed to 'json_schema_extra'\n",
      "  warnings.warn(message, UserWarning)\n"
     ]
    }
   ],
   "source": [
    "import os\n",
    "import json\n",
    "import pandas as pd\n",
    "import numpy as np\n",
    "from sklearn.model_selection import train_test_split\n",
    "from sklearn.feature_extraction.text import CountVectorizer, TfidfVectorizer\n",
    "from sklearn.feature_extraction.text import TfidfTransformer\n",
    "\n",
    "import mlflow\n",
    "\n",
    "from sklearn.naive_bayes import MultinomialNB\n",
    "from sklearn.linear_model import LogisticRegression\n",
    "from sklearn.tree import DecisionTreeClassifier\n",
    "from sklearn.ensemble import RandomForestClassifier\n",
    "\n",
    "\n",
    "from sklearn.model_selection import StratifiedKFold\n",
    "from sklearn.model_selection import cross_val_score\n",
    "from sklearn.model_selection import GridSearchCV\n",
    "import matplotlib.pyplot as plt\n",
    "\n",
    "from sklearn import metrics\n",
    "from sklearn.metrics import roc_auc_score\n",
    "from sklearn.metrics import accuracy_score\n",
    "from sklearn.metrics import precision_score\n",
    "from sklearn.metrics import recall_score\n",
    "from sklearn.metrics import precision_recall_fscore_support\n",
    "\n",
    "from sklearn.metrics import classification_report\n",
    "from sklearn.metrics import confusion_matrix\n",
    "from sklearn.metrics import ConfusionMatrixDisplay\n",
    "\n",
    "import logging\n",
    "logging.basicConfig(level=logging.INFO)\n",
    "logger = logging.getLogger(__name__)\n",
    "\n",
    "import warnings\n",
    "warnings.filterwarnings(\"ignore\")"
   ]
  },
  {
   "attachments": {},
   "cell_type": "markdown",
   "metadata": {},
   "source": [
    "### Model building baseline with mlflow tracking "
   ]
  },
  {
   "cell_type": "code",
   "execution_count": 2,
   "metadata": {},
   "outputs": [],
   "source": [
    "def read_csv(file_name: str, path=\"data/data_processed\") -> pd.DataFrame:\n",
    "    \"\"\"\n",
    "    Read csv file\n",
    "    :param file_name: file name\n",
    "    :param path: path to the file\n",
    "    :return: pandas dataframe\n",
    "    \"\"\"\n",
    "    return pd.read_csv(os.path.join(path, file_name))"
   ]
  },
  {
   "cell_type": "code",
   "execution_count": 3,
   "metadata": {},
   "outputs": [],
   "source": [
    "df_tickets = read_csv(\"tickets_inputs_eng_1.csv\")"
   ]
  },
  {
   "cell_type": "code",
   "execution_count": 4,
   "metadata": {},
   "outputs": [
    {
     "data": {
      "text/plain": [
       "(18961, 4)"
      ]
     },
     "execution_count": 4,
     "metadata": {},
     "output_type": "execute_result"
    }
   ],
   "source": [
    "df_tickets.shape"
   ]
  },
  {
   "cell_type": "code",
   "execution_count": 5,
   "metadata": {},
   "outputs": [
    {
     "data": {
      "text/html": [
       "<div>\n",
       "<style scoped>\n",
       "    .dataframe tbody tr th:only-of-type {\n",
       "        vertical-align: middle;\n",
       "    }\n",
       "\n",
       "    .dataframe tbody tr th {\n",
       "        vertical-align: top;\n",
       "    }\n",
       "\n",
       "    .dataframe thead th {\n",
       "        text-align: right;\n",
       "    }\n",
       "</style>\n",
       "<table border=\"1\" class=\"dataframe\">\n",
       "  <thead>\n",
       "    <tr style=\"text-align: right;\">\n",
       "      <th></th>\n",
       "      <th>complaint_what_happened</th>\n",
       "      <th>ticket_classification</th>\n",
       "      <th>processed_text</th>\n",
       "      <th>relevant_topics</th>\n",
       "    </tr>\n",
       "  </thead>\n",
       "  <tbody>\n",
       "    <tr>\n",
       "      <th>18714</th>\n",
       "      <td>I am a victim of identity theft and as a resul...</td>\n",
       "      <td>Debt collection + Credit card debt</td>\n",
       "      <td>victim ident theft result fraudul activ credit...</td>\n",
       "      <td>Mortgage/Loan</td>\n",
       "    </tr>\n",
       "    <tr>\n",
       "      <th>15487</th>\n",
       "      <td>After being discharged from Bankruptcy in XXXX...</td>\n",
       "      <td>Debt collection + I do not know</td>\n",
       "      <td>discharg bankruptci messag mail prompt call ma...</td>\n",
       "      <td>Mortgage/Loan</td>\n",
       "    </tr>\n",
       "    <tr>\n",
       "      <th>10093</th>\n",
       "      <td>Way to many overdraft fees. I've been a long t...</td>\n",
       "      <td>Checking or savings account + Checking account</td>\n",
       "      <td>way mani overdraft fee time custom fee becom r...</td>\n",
       "      <td>Mortgage/Loan</td>\n",
       "    </tr>\n",
       "    <tr>\n",
       "      <th>12127</th>\n",
       "      <td>We check our balance on XX/XX/XXXX and it had ...</td>\n",
       "      <td>Checking or savings account + Checking account</td>\n",
       "      <td>check balanc account food transact deduct bala...</td>\n",
       "      <td>Mortgage/Loan</td>\n",
       "    </tr>\n",
       "    <tr>\n",
       "      <th>12368</th>\n",
       "      <td>CHASE Bank sent me a letter indicating that it...</td>\n",
       "      <td>Bank account or service + Checking account</td>\n",
       "      <td>bank letter indic decid check account year con...</td>\n",
       "      <td>Mortgage/Loan</td>\n",
       "    </tr>\n",
       "  </tbody>\n",
       "</table>\n",
       "</div>"
      ],
      "text/plain": [
       "                                 complaint_what_happened  \\\n",
       "18714  I am a victim of identity theft and as a resul...   \n",
       "15487  After being discharged from Bankruptcy in XXXX...   \n",
       "10093  Way to many overdraft fees. I've been a long t...   \n",
       "12127  We check our balance on XX/XX/XXXX and it had ...   \n",
       "12368  CHASE Bank sent me a letter indicating that it...   \n",
       "\n",
       "                                ticket_classification  \\\n",
       "18714              Debt collection + Credit card debt   \n",
       "15487                 Debt collection + I do not know   \n",
       "10093  Checking or savings account + Checking account   \n",
       "12127  Checking or savings account + Checking account   \n",
       "12368      Bank account or service + Checking account   \n",
       "\n",
       "                                          processed_text relevant_topics  \n",
       "18714  victim ident theft result fraudul activ credit...   Mortgage/Loan  \n",
       "15487  discharg bankruptci messag mail prompt call ma...   Mortgage/Loan  \n",
       "10093  way mani overdraft fee time custom fee becom r...   Mortgage/Loan  \n",
       "12127  check balanc account food transact deduct bala...   Mortgage/Loan  \n",
       "12368  bank letter indic decid check account year con...   Mortgage/Loan  "
      ]
     },
     "execution_count": 5,
     "metadata": {},
     "output_type": "execute_result"
    }
   ],
   "source": [
    "df_tickets.sample(5)"
   ]
  },
  {
   "cell_type": "code",
   "execution_count": 6,
   "metadata": {},
   "outputs": [
    {
     "data": {
      "text/plain": [
       "relevant_topics\n",
       "Mortgage/Loan                    16376\n",
       "Bank Account Services             2358\n",
       "Credit Report or Prepaid Card      227\n",
       "Name: count, dtype: int64"
      ]
     },
     "execution_count": 6,
     "metadata": {},
     "output_type": "execute_result"
    }
   ],
   "source": [
    "df_tickets.relevant_topics.value_counts() #positivo para desbalance but, la vida es así y hay que seguir adelante"
   ]
  },
  {
   "cell_type": "code",
   "execution_count": 7,
   "metadata": {},
   "outputs": [],
   "source": [
    "def data_transform(df: pd.DataFrame):\n",
    "    \"\"\"This function transform the data into X and y\n",
    "    Args:\n",
    "      df (pd.DataFrame): dataframe with the data\n",
    "    Returns:\n",
    "      X (pd.Series): series with the text\n",
    "      y (pd.Series): series with the labels\"\"\"\n",
    "    X = df[\"processed_text\"]\n",
    "    y = df[\"relevant_topics\"]\n",
    "\n",
    "    return X, y\n",
    "\n",
    "\n",
    "def read_idx2label(json_path: str) -> pd.Series:\n",
    "    \"\"\"This function read the json file and return a dictionary\n",
    "    Args:\n",
    "      json_path (str): path to the json file\n",
    "     Returns:\n",
    "      idx2label (dict): dictionary with the mapping\"\"\"\n",
    "    with open(json_path) as f:\n",
    "        idx2label = json.load(f)\n",
    "    return idx2label\n",
    "\n",
    "\n",
    "def decode_labels_into_idx(labels: pd.Series, idx2label: dict) -> pd.Series:\n",
    "    \"\"\"This function decode the labels into idx\n",
    "    Args:\n",
    "      labels (pd.Series): series with the labels\n",
    "      idx2label (dict): dictionary with the mapping\n",
    "     Returns:\n",
    "      labels (pd.Series): series with the labels decoded\n",
    "    \"\"\"\n",
    "    return labels.map(idx2label)\n",
    "\n",
    "\n",
    "def fit_transform(X: pd.Series) -> np.ndarray:\n",
    "    count_vectorizer = CountVectorizer()\n",
    "    X_vectorized = count_vectorizer.fit_transform(X)\n",
    "    return X_vectorized\n",
    "\n",
    "\n",
    "def transform_tfidf(X_vectorized: object) -> np.ndarray:\n",
    "    tfidf_transformer = TfidfTransformer()\n",
    "    X_tfidf = tfidf_transformer.fit_transform(X_vectorized)\n",
    "    return X_tfidf\n",
    "\n",
    "\n",
    "def split_train_test(\n",
    "    X_tfidf: np.array, y: pd.Series, test_size: float = 0.3, random_state: int = 42\n",
    ") -> tuple:\n",
    "    \"\"\"This function split the data into train and test\n",
    "    Args:\n",
    "      X_tfidf (np.array): array with the vectorized data\n",
    "      y (pd.Series): series with the labels\n",
    "      test_size (float): test size\n",
    "      random_state (int): random state\n",
    "     Returns:\n",
    "      X_train (np.array): array with the vectorized data for train\n",
    "      X_test (np.array): array with the vectorized data for test\n",
    "      y_train (pd.Series): series with the labels for train\n",
    "      y_test (pd.Series): series with the labels for test\n",
    "    \"\"\"\n",
    "    X_train, X_test, y_train, y_test = train_test_split(\n",
    "        X_tfidf, y, test_size=test_size, random_state=random_state\n",
    "    )\n",
    "    return X_train, X_test, y_train, y_test\n",
    "\n",
    "\n",
    "def display_classification_report(model: object, \n",
    "                                  name_model: str, \n",
    "                                  developer: str, \n",
    "                                  X_train: np.array, \n",
    "                                  X_test: np.array, \n",
    "                                  y_train: np.array, \n",
    "                                  y_test: np.array, \n",
    "                                  ):\n",
    "    \"\"\"This function display the classification report\n",
    "    Args:\n",
    "      model (object): model\n",
    "      X_train (np.array): array with the vectorized data for train\n",
    "      X_test (np.array): array with the vectorized data for test\n",
    "      y_train (pd.Series): series with the labels for train\n",
    "      y_test (pd.Series): series with the labels for test\n",
    "     Returns:\n",
    "      metric (list): list with the metrics\"\"\"\n",
    "\n",
    "    metric = []\n",
    "    y_train_pred_proba = model.predict_proba(X_train)\n",
    "    y_test_pred_proba = model.predict_proba(X_test)\n",
    "    roc_auc_score_train = round(\n",
    "        roc_auc_score(\n",
    "            y_train, y_train_pred_proba, average=\"weighted\", multi_class=\"ovr\"\n",
    "        ),\n",
    "        2,\n",
    "    )\n",
    "    roc_auc_score_test = round(\n",
    "        roc_auc_score(y_test, y_test_pred_proba, average=\"weighted\", multi_class=\"ovr\"),\n",
    "        2,\n",
    "    )\n",
    "    print(\"ROC AUC Score Train:\", roc_auc_score_train)\n",
    "    print(\"ROC AUC Score Test:\", roc_auc_score_test)\n",
    "    metric.extend([roc_auc_score_train, roc_auc_score_test])\n",
    "\n",
    "    y_train_pred = model.predict(X_train)\n",
    "    y_test_pred = model.predict(X_test)\n",
    "\n",
    "    (\n",
    "        precision_train,\n",
    "        recall_train,\n",
    "        fscore_train,\n",
    "        support_train,\n",
    "    ) = precision_recall_fscore_support(y_train, y_train_pred, average=\"weighted\")\n",
    "    (\n",
    "        precision_test,\n",
    "        recall_test,\n",
    "        fscore_test,\n",
    "        support_test,\n",
    "    ) = precision_recall_fscore_support(y_test, y_test_pred, average=\"weighted\")\n",
    "\n",
    "    acc_score_train = round(accuracy_score(y_train, y_train_pred), 2)\n",
    "    acc_score_test = round(accuracy_score(y_test, y_test_pred), 2)\n",
    "\n",
    "    metric.extend(\n",
    "        [\n",
    "            acc_score_train,\n",
    "            acc_score_test,\n",
    "            round(precision_train, 2),\n",
    "            round(precision_test, 2),\n",
    "            round(recall_train, 2),\n",
    "            round(recall_test, 2),\n",
    "            round(fscore_train, 2),\n",
    "            round(fscore_test, 2),\n",
    "        ]\n",
    "    )\n",
    "\n",
    "    print(\"Train Accuracy: \", acc_score_train)\n",
    "    print(\"Test Accuracy: \", acc_score_test)\n",
    "\n",
    "    model_report_train = classification_report(y_train, y_train_pred)\n",
    "    model_report_test = classification_report(y_test, y_test_pred)\n",
    "\n",
    "    print(\"Classification Report for Train:\\n\", model_report_train)\n",
    "    print(\"Classification Report for Test:\\n\", model_report_test)\n",
    "\n",
    "    # Plot the confusion matrix\n",
    "    fig, ax = plt.subplots(figsize=(12, 8))\n",
    "    # Create the confusion matrix\n",
    "    cm = confusion_matrix(y_test, y_test_pred)\n",
    "    cmp = ConfusionMatrixDisplay(cm, display_labels=model.classes_)\n",
    "    cmp.plot(ax=ax)\n",
    "\n",
    "    plt.xticks(rotation=80)\n",
    "    plt.show()\n",
    "    return metric\n"
   ]
  },
  {
   "cell_type": "code",
   "execution_count": 8,
   "metadata": {},
   "outputs": [],
   "source": [
    "folds = StratifiedKFold(n_splits = 5, shuffle = True, random_state = 40)"
   ]
  },
  {
   "cell_type": "code",
   "execution_count": 9,
   "metadata": {},
   "outputs": [],
   "source": [
    "def grid_search(model,folds,params,scoring):\n",
    "    \n",
    "    grid_search = GridSearchCV(model,\n",
    "                                cv=folds, \n",
    "                                param_grid=params, \n",
    "                                scoring=scoring, \n",
    "                                n_jobs=-1, verbose=1)\n",
    "    return grid_search"
   ]
  },
  {
   "cell_type": "code",
   "execution_count": 10,
   "metadata": {},
   "outputs": [],
   "source": [
    "def print_best_score_params(model):\n",
    "    print(\"Best Score: \", model.best_score_)\n",
    "    print(\"Best Hyperparameters: \", model.best_params_)"
   ]
  },
  {
   "cell_type": "code",
   "execution_count": 11,
   "metadata": {},
   "outputs": [],
   "source": [
    "idx2label = read_idx2label(json_path=\"data/data_processed/topic_mapping_1.json\")\n",
    "label2idx = {value: key for key, value in idx2label.items()}\n",
    "\n",
    "X, y = data_transform(df_tickets)\n",
    "y = decode_labels_into_idx(labels=y, idx2label=label2idx)\n",
    "\n",
    "X_vectorized = fit_transform(X.values)\n",
    "X_tfidf = transform_tfidf(X_vectorized)\n",
    "X_train, X_test, y_train, y_test = split_train_test(X_tfidf, y)"
   ]
  },
  {
   "cell_type": "code",
   "execution_count": 16,
   "metadata": {},
   "outputs": [
    {
     "data": {
      "text/plain": [
       "relevant_topics\n",
       "2    4905\n",
       "0     705\n",
       "1      79\n",
       "Name: count, dtype: int64"
      ]
     },
     "execution_count": 16,
     "metadata": {},
     "output_type": "execute_result"
    }
   ],
   "source": [
    "y_test.value_counts()"
   ]
  },
  {
   "cell_type": "code",
   "execution_count": 12,
   "metadata": {},
   "outputs": [
    {
     "name": "stdout",
     "output_type": "stream",
     "text": [
      "ROC AUC Score Train: 0.61\n",
      "ROC AUC Score Test: 0.51\n",
      "Train Accuracy:  0.86\n",
      "Test Accuracy:  0.86\n",
      "Classification Report for Train:\n",
      "               precision    recall  f1-score   support\n",
      "\n",
      "           0       0.25      0.00      0.00      1653\n",
      "           1       0.00      0.00      0.00       148\n",
      "           2       0.86      1.00      0.93     11471\n",
      "\n",
      "    accuracy                           0.86     13272\n",
      "   macro avg       0.37      0.33      0.31     13272\n",
      "weighted avg       0.78      0.86      0.80     13272\n",
      "\n",
      "Classification Report for Test:\n",
      "               precision    recall  f1-score   support\n",
      "\n",
      "           0       0.00      0.00      0.00       705\n",
      "           1       0.00      0.00      0.00        79\n",
      "           2       0.86      1.00      0.93      4905\n",
      "\n",
      "    accuracy                           0.86      5689\n",
      "   macro avg       0.29      0.33      0.31      5689\n",
      "weighted avg       0.74      0.86      0.80      5689\n",
      "\n"
     ]
    },
    {
     "data": {
      "image/png": "[encoded data removed]",
      "text/plain": [
       "<Figure size 1200x800 with 2 Axes>"
      ]
     },
     "metadata": {},
     "output_type": "display_data"
    },
    {
     "data": {
      "text/plain": [
       "[0.61, 0.51, 0.86, 0.86, 0.78, 0.74, 0.86, 0.86, 0.8, 0.8]"
      ]
     },
     "execution_count": 12,
     "metadata": {},
     "output_type": "execute_result"
    }
   ],
   "source": [
    "mnb = MultinomialNB()\n",
    "mnb.fit(X_train, y_train)\n",
    "display_classification_report(mnb,X_train, X_test, y_train, y_test)"
   ]
  },
  {
   "cell_type": "code",
   "execution_count": 17,
   "metadata": {},
   "outputs": [
    {
     "name": "stdout",
     "output_type": "stream",
     "text": [
      "ROC AUC Score Train: 0.83\n",
      "ROC AUC Score Test: 0.63\n",
      "Train Accuracy:  0.87\n",
      "Test Accuracy:  0.86\n",
      "Classification Report for Train:\n",
      "               precision    recall  f1-score   support\n",
      "\n",
      "           0       0.73      0.04      0.08      1653\n",
      "           1       0.00      0.00      0.00       148\n",
      "           2       0.87      1.00      0.93     11471\n",
      "\n",
      "    accuracy                           0.87     13272\n",
      "   macro avg       0.53      0.35      0.33     13272\n",
      "weighted avg       0.84      0.87      0.81     13272\n",
      "\n",
      "Classification Report for Test:\n",
      "               precision    recall  f1-score   support\n",
      "\n",
      "           0       0.58      0.03      0.05       705\n",
      "           1       0.00      0.00      0.00        79\n",
      "           2       0.86      1.00      0.93      4905\n",
      "\n",
      "    accuracy                           0.86      5689\n",
      "   macro avg       0.48      0.34      0.33      5689\n",
      "weighted avg       0.82      0.86      0.80      5689\n",
      "\n"
     ]
    },
    {
     "data": {
      "image/png": "[encoded data removed]",
      "text/plain": [
       "<Figure size 1200x800 with 2 Axes>"
      ]
     },
     "metadata": {},
     "output_type": "display_data"
    },
    {
     "data": {
      "text/plain": [
       "[0.83, 0.63, 0.87, 0.86, 0.84, 0.82, 0.87, 0.86, 0.81, 0.8]"
      ]
     },
     "execution_count": 17,
     "metadata": {},
     "output_type": "execute_result"
    }
   ],
   "source": [
    "log_reg = LogisticRegression(random_state=40,solver='liblinear')\n",
    "# fit model\n",
    "log_reg.fit(X_train,y_train)\n",
    "# display classification report\n",
    "metric2=[]\n",
    "display_classification_report(log_reg,X_train, X_test, y_train, y_test)"
   ]
  },
  {
   "cell_type": "code",
   "execution_count": 18,
   "metadata": {},
   "outputs": [
    {
     "name": "stdout",
     "output_type": "stream",
     "text": [
      "ROC AUC Score Train: 1.0\n",
      "ROC AUC Score Test: 0.54\n",
      "Train Accuracy:  1.0\n",
      "Test Accuracy:  0.79\n",
      "Classification Report for Train:\n",
      "               precision    recall  f1-score   support\n",
      "\n",
      "           0       1.00      1.00      1.00      1653\n",
      "           1       1.00      0.99      0.99       148\n",
      "           2       1.00      1.00      1.00     11471\n",
      "\n",
      "    accuracy                           1.00     13272\n",
      "   macro avg       1.00      1.00      1.00     13272\n",
      "weighted avg       1.00      1.00      1.00     13272\n",
      "\n",
      "Classification Report for Test:\n",
      "               precision    recall  f1-score   support\n",
      "\n",
      "           0       0.21      0.20      0.20       705\n",
      "           1       0.04      0.03      0.03        79\n",
      "           2       0.87      0.88      0.88      4905\n",
      "\n",
      "    accuracy                           0.79      5689\n",
      "   macro avg       0.37      0.37      0.37      5689\n",
      "weighted avg       0.78      0.79      0.78      5689\n",
      "\n"
     ]
    },
    {
     "data": {
      "image/png": "[encoded data removed]",
      "text/plain": [
       "<Figure size 1200x800 with 2 Axes>"
      ]
     },
     "metadata": {},
     "output_type": "display_data"
    },
    {
     "data": {
      "text/plain": [
       "[1.0, 0.54, 1.0, 0.79, 1.0, 0.78, 1.0, 0.79, 1.0, 0.78]"
      ]
     },
     "execution_count": 18,
     "metadata": {},
     "output_type": "execute_result"
    }
   ],
   "source": [
    "dtc = DecisionTreeClassifier(random_state=40)\n",
    "# fit model\n",
    "dtc.fit(X_train,y_train)\n",
    "display_classification_report(dtc,X_train, X_test, y_train, y_test)"
   ]
  }
 ],
 "metadata": {
  "kernelspec": {
   "display_name": "mlops-curso-py3.9",
   "language": "python",
   "name": "mlops-curso-py3.9"
  },
  "language_info": {
   "codemirror_mode": {
    "name": "ipython",
    "version": 3
   },
   "file_extension": ".py",
   "mimetype": "text/x-python",
   "name": "python",
   "nbconvert_exporter": "python",
   "pygments_lexer": "ipython3",
   "version": "3.9.17"
  },
  "orig_nbformat": 4
 },
 "nbformat": 4,
 "nbformat_minor": 2
}
