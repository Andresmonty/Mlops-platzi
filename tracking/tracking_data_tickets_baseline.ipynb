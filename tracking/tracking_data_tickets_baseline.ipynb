{
 "cells": [
  {
   "cell_type": "code",
   "execution_count": 3,
   "metadata": {},
   "outputs": [],
   "source": [
    "import os\n",
    "import json\n",
    "import pandas as pd\n",
    "from sklearn.model_selection import train_test_split\n",
    "from sklearn.feature_extraction.text import CountVectorizer, TfidfVectorizer\n",
    "import mlflow\n",
    "\n",
    "from sklearn.naive_bayes import MultinomialNB\n",
    "from sklearn.linear_model import LogisticRegression\n",
    "from sklearn.tree import DecisionTreeClassifier\n",
    "from sklearn.ensemble import RandomForestClassifier\n",
    "\n",
    "\n",
    "from sklearn.model_selection import StratifiedKFold\n",
    "from sklearn.model_selection import cross_val_score\n",
    "from sklearn.model_selection import GridSearchCV\n",
    "\n",
    "from sklearn import metrics\n",
    "from sklearn.metrics import roc_auc_score\n",
    "from sklearn.metrics import accuracy_score\n",
    "from sklearn.metrics import precision_score\n",
    "from sklearn.metrics import recall_score\n",
    "from sklearn.metrics import precision_recall_fscore_support\n",
    "\n",
    "from sklearn.metrics import classification_report\n",
    "from sklearn.metrics import confusion_matrix\n",
    "from sklearn.metrics import ConfusionMatrixDisplay\n",
    "\n",
    "import logging\n",
    "logging.basicConfig(level=logging.INFO)\n",
    "logger = logging.getLogger(__name__)\n",
    "\n",
    "import warnings\n",
    "warnings.filterwarnings(\"ignore\")"
   ]
  },
  {
   "attachments": {},
   "cell_type": "markdown",
   "metadata": {},
   "source": [
    "### Model building baseline with mlflow tracking "
   ]
  },
  {
   "cell_type": "code",
   "execution_count": 6,
   "metadata": {},
   "outputs": [
    {
     "name": "stdout",
     "output_type": "stream",
     "text": [
      "/Users/mdurango/Proyect/Mlops-platzi/notebooks\n"
     ]
    }
   ],
   "source": [
    "!pwd"
   ]
  },
  {
   "cell_type": "code",
   "execution_count": 2,
   "metadata": {},
   "outputs": [],
   "source": [
    "def read_csv(file_name: str, path=\"data/data_processed\") -> pd.DataFrame:\n",
    "    \"\"\"\n",
    "    Read csv file\n",
    "    :param file_name: file name\n",
    "    :param path: path to the file\n",
    "    :return: pandas dataframe\n",
    "    \"\"\"\n",
    "    return pd.read_csv(os.path.join(path, file_name))"
   ]
  },
  {
   "cell_type": "code",
   "execution_count": 3,
   "metadata": {},
   "outputs": [],
   "source": [
    "df_tickets = read_csv(\"tickets_inputs_eng_1.csv\")"
   ]
  },
  {
   "cell_type": "code",
   "execution_count": 4,
   "metadata": {},
   "outputs": [
    {
     "data": {
      "text/plain": [
       "(18961, 4)"
      ]
     },
     "execution_count": 4,
     "metadata": {},
     "output_type": "execute_result"
    }
   ],
   "source": [
    "df_tickets.shape"
   ]
  },
  {
   "cell_type": "code",
   "execution_count": 5,
   "metadata": {},
   "outputs": [
    {
     "data": {
      "text/html": [
       "<div>\n",
       "<style scoped>\n",
       "    .dataframe tbody tr th:only-of-type {\n",
       "        vertical-align: middle;\n",
       "    }\n",
       "\n",
       "    .dataframe tbody tr th {\n",
       "        vertical-align: top;\n",
       "    }\n",
       "\n",
       "    .dataframe thead th {\n",
       "        text-align: right;\n",
       "    }\n",
       "</style>\n",
       "<table border=\"1\" class=\"dataframe\">\n",
       "  <thead>\n",
       "    <tr style=\"text-align: right;\">\n",
       "      <th></th>\n",
       "      <th>complaint_what_happened</th>\n",
       "      <th>ticket_classification</th>\n",
       "      <th>processed_text</th>\n",
       "      <th>relevant_topics</th>\n",
       "    </tr>\n",
       "  </thead>\n",
       "  <tbody>\n",
       "    <tr>\n",
       "      <th>10296</th>\n",
       "      <td>On  XXXX / XXXX /  XXXX  , I reported to  JP M...</td>\n",
       "      <td>Checking or savings account + Checking account</td>\n",
       "      <td>report check author deposit account amount day...</td>\n",
       "      <td>Mortgage/Loan</td>\n",
       "    </tr>\n",
       "    <tr>\n",
       "      <th>1998</th>\n",
       "      <td>Per Section 609 ( a ) ( 1 ) of the Fair Credit...</td>\n",
       "      <td>Debt collection + Credit card debt</td>\n",
       "      <td>section fair credit report act fcra law verifi...</td>\n",
       "      <td>Mortgage/Loan</td>\n",
       "    </tr>\n",
       "    <tr>\n",
       "      <th>1473</th>\n",
       "      <td>I applied for, and was approved for a XXXX rew...</td>\n",
       "      <td>Credit card or prepaid card + General-purpose ...</td>\n",
       "      <td>appli reward card chase month bill balanc fee ...</td>\n",
       "      <td>Mortgage/Loan</td>\n",
       "    </tr>\n",
       "    <tr>\n",
       "      <th>2245</th>\n",
       "      <td>I am being sent the pre-approved credit card a...</td>\n",
       "      <td>Credit card or prepaid card + General-purpose ...</td>\n",
       "      <td>credit card multipl time case jp chase card re...</td>\n",
       "      <td>Mortgage/Loan</td>\n",
       "    </tr>\n",
       "    <tr>\n",
       "      <th>18540</th>\n",
       "      <td>**THIS IS NOT A DUPLICATE** I mailed a payment...</td>\n",
       "      <td>Vehicle loan or lease + Lease</td>\n",
       "      <td>duplic payment auto financ payment/ return res...</td>\n",
       "      <td>Mortgage/Loan</td>\n",
       "    </tr>\n",
       "  </tbody>\n",
       "</table>\n",
       "</div>"
      ],
      "text/plain": [
       "                                 complaint_what_happened  \\\n",
       "10296  On  XXXX / XXXX /  XXXX  , I reported to  JP M...   \n",
       "1998   Per Section 609 ( a ) ( 1 ) of the Fair Credit...   \n",
       "1473   I applied for, and was approved for a XXXX rew...   \n",
       "2245   I am being sent the pre-approved credit card a...   \n",
       "18540  **THIS IS NOT A DUPLICATE** I mailed a payment...   \n",
       "\n",
       "                                   ticket_classification  \\\n",
       "10296     Checking or savings account + Checking account   \n",
       "1998                  Debt collection + Credit card debt   \n",
       "1473   Credit card or prepaid card + General-purpose ...   \n",
       "2245   Credit card or prepaid card + General-purpose ...   \n",
       "18540                      Vehicle loan or lease + Lease   \n",
       "\n",
       "                                          processed_text relevant_topics  \n",
       "10296  report check author deposit account amount day...   Mortgage/Loan  \n",
       "1998   section fair credit report act fcra law verifi...   Mortgage/Loan  \n",
       "1473   appli reward card chase month bill balanc fee ...   Mortgage/Loan  \n",
       "2245   credit card multipl time case jp chase card re...   Mortgage/Loan  \n",
       "18540  duplic payment auto financ payment/ return res...   Mortgage/Loan  "
      ]
     },
     "execution_count": 5,
     "metadata": {},
     "output_type": "execute_result"
    }
   ],
   "source": [
    "df_tickets.sample(5)"
   ]
  },
  {
   "cell_type": "code",
   "execution_count": 6,
   "metadata": {},
   "outputs": [
    {
     "data": {
      "text/plain": [
       "relevant_topics\n",
       "Mortgage/Loan                    16376\n",
       "Bank Account Services             2358\n",
       "Credit Report or Prepaid Card      227\n",
       "Name: count, dtype: int64"
      ]
     },
     "execution_count": 6,
     "metadata": {},
     "output_type": "execute_result"
    }
   ],
   "source": [
    "df_tickets.relevant_topics.value_counts() #positivo para desbalance but, la vida es así y hay que seguir adelante"
   ]
  },
  {
   "cell_type": "code",
   "execution_count": null,
   "metadata": {},
   "outputs": [],
   "source": [
    "def data_transform(df:pd.DataFrame):\n",
    "    X = df[\"processed_text\"]\n",
    "    y = df[\"\"]\n",
    "\n",
    "\n",
    "# def rad mapping\n",
    "\n",
    "# def idx2idx\n",
    "\n",
    "# def split\n",
    "\n",
    "# def define model\n",
    "\n",
    "# def choice best model\n",
    "\n",
    "# def valdiation model\n",
    "\n",
    "# def register model \n",
    "\n",
    "# def tracking model"
   ]
  }
 ],
 "metadata": {
  "kernelspec": {
   "display_name": "mlops-curso-py3.9",
   "language": "python",
   "name": "mlops-curso-py3.9"
  },
  "language_info": {
   "codemirror_mode": {
    "name": "ipython",
    "version": 3
   },
   "file_extension": ".py",
   "mimetype": "text/x-python",
   "name": "python",
   "nbconvert_exporter": "python",
   "pygments_lexer": "ipython3",
   "version": "3.9.17"
  },
  "orig_nbformat": 4
 },
 "nbformat": 4,
 "nbformat_minor": 2
}
